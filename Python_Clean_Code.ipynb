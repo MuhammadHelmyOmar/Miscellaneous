{
  "nbformat": 4,
  "nbformat_minor": 0,
  "metadata": {
    "colab": {
      "provenance": []
    },
    "kernelspec": {
      "name": "python3",
      "display_name": "Python 3"
    },
    "language_info": {
      "name": "python"
    }
  },
  "cells": [
    {
      "cell_type": "markdown",
      "source": [
        "# A Brief Guide To Write Python Clean Code\n",
        "- Thanks to: [Youssef Hosni](https://levelup.gitconnected.com/learn-how-to-write-python-clean-code-using-these-3-principles-ed046978e39a)"
      ],
      "metadata": {
        "id": "8daII_EHPyOt"
      }
    },
    {
      "cell_type": "markdown",
      "source": [
        "- Writing an organized tidy code in Python is an important skill for every Python developer.\n",
        "- A clean code is basically about making your code readable.\n",
        "- Here are some tips and tricks to follow."
      ],
      "metadata": {
        "id": "wkGpGT9xP_UR"
      }
    },
    {
      "cell_type": "markdown",
      "source": [
        "### Charactersitcs of High-Quality Production Code\n",
        "- Clean code eases its maintenance.\n",
        "- Some techniques that make your code at high level of quality are resusing parst of code, modularity, and object orientation.\n",
        "- These techniques have some charterestics that distinguish them.\n",
        "- Below is a discription of some of these characteristics:\n",
        "  1. Production Code: software running on production servers to handle live users and data of the intended audience.\n",
        "  2. Clean: readable, simple, and concise.\n",
        "    - Focused Code: each function or module should excel in doing one thing.\n",
        "    - Easy to read, debug, and maintain.\n",
        "  3. Modular Code: organizing code into functions and modules that can be encapsulated into files to be ready for reuse.\n",
        "  4. Refactoring: improving the internal structure of the code while maintaining it external functionality.\n",
        "  \n"
      ],
      "metadata": {
        "id": "ksNIm_8pS3Jn"
      }
    },
    {
      "cell_type": "markdown",
      "source": [
        "### Naming Convention"
      ],
      "metadata": {
        "id": "MVN3oQjWTt2c"
      }
    },
    {
      "cell_type": "markdown",
      "source": [
        "- Use meaningful, descriptive, and clear names for variables even if they will be long.\n",
        "- PEP (Python Enhancement Proposal): a document that provides the Python community with information about new features or standards.\n",
        "- PEP 8 Naming Convention:\n",
        "  - Classes: CamelCase\n",
        "  - Variables: snake_case and lowercase\n",
        "  - Functions: snake_case and lowercase\n",
        "  - Constants: snake_case and uppercase\n",
        "  - Modules: short snake_case and lowercase\n",
        "  - Be consistent in using single quotes or double quotes."
      ],
      "metadata": {
        "id": "c2OTjOvPeZid"
      }
    },
    {
      "cell_type": "markdown",
      "source": [
        "##### 1. Variables"
      ],
      "metadata": {
        "id": "dCFqLtCmh4FL"
      }
    },
    {
      "cell_type": "markdown",
      "source": [
        "- Descriptive"
      ],
      "metadata": {
        "id": "uueR-660jClj"
      }
    },
    {
      "cell_type": "code",
      "execution_count": null,
      "metadata": {
        "id": "uoxQokUaPqlo"
      },
      "outputs": [],
      "source": [
        "# Active User\n",
        "\n",
        "au = 10 # Not recommended\n",
        "\n",
        "active_users, total_active_users = 44 # Better"
      ]
    },
    {
      "cell_type": "markdown",
      "source": [
        "- Type Revealing"
      ],
      "metadata": {
        "id": "BPL8ErxQjGmc"
      }
    },
    {
      "cell_type": "code",
      "source": [
        "# Cities\n",
        "\n",
        "c = [\"LA\", \"ALEX\"] # not recommended\n",
        "\n",
        "cities_list = [\"LA\", \"ALEX\"] # recommended"
      ],
      "metadata": {
        "id": "cP04cCZCifsD"
      },
      "execution_count": null,
      "outputs": []
    },
    {
      "cell_type": "markdown",
      "source": [
        "- Same Vocabulary"
      ],
      "metadata": {
        "id": "3xodE34FigSZ"
      }
    },
    {
      "cell_type": "code",
      "source": [
        "# Client\n",
        "\n",
        "client_first_name = \"Muhammad\"\n",
        "customer_second_name = \"Helmy\" # not recommended\n",
        "client_second_name = \"Helmy\" # Recommended\n",
        "\n",
        "# Function Arguments\n",
        "\n",
        "def fetch_clients(response, variable):\n",
        "    pass\n",
        "\n",
        "def fetch_posts(res, var):\n",
        "    pass\n",
        "    # Not recommended\n",
        "\n",
        "def fetch_posts(response, variable):\n",
        "    pass\n",
        "    # Recommended"
      ],
      "metadata": {
        "id": "J8BpzaBjlHAW"
      },
      "execution_count": null,
      "outputs": []
    },
    {
      "cell_type": "markdown",
      "source": [
        "- Avoid Magic Numbers"
      ],
      "metadata": {
        "id": "Bc4EK4CrTT3U"
      }
    },
    {
      "cell_type": "code",
      "source": [
        "import random\n",
        "\n",
        "def roll_dice():\n",
        "    return random.randint(0, 4) # what 4 represent is ambiguous\n",
        "    # Not recommended\n",
        "\n",
        "DICE_SIDES = 4\n",
        "\n",
        "def roll_dice():\n",
        "  return random.randint(0, DICE_SIDES)\n",
        "  # Recommended"
      ],
      "metadata": {
        "id": "rsjL9PBeibrp"
      },
      "execution_count": null,
      "outputs": []
    },
    {
      "cell_type": "markdown",
      "source": [
        "##### 2. Functions"
      ],
      "metadata": {
        "id": "cat38JjaUhy2"
      }
    },
    {
      "cell_type": "markdown",
      "source": [
        "- Descriptive but not long"
      ],
      "metadata": {
        "id": "E5Pm0uoehRRH"
      }
    },
    {
      "cell_type": "code",
      "source": [
        "def roll_dice_using_randint():\n",
        "    return random.randint(0, DICE_SIDES)\n",
        "    # Not recommended\n",
        "\n",
        "def roll_dice():\n",
        "    return random.randint(0, DICE_SIDES)\n",
        "    # Recommended"
      ],
      "metadata": {
        "id": "SUxRwAB2UocY"
      },
      "execution_count": null,
      "outputs": []
    },
    {
      "cell_type": "markdown",
      "source": [
        "- Consistent Naming Convention"
      ],
      "metadata": {
        "id": "N0ZqbkjjiNEd"
      }
    },
    {
      "cell_type": "code",
      "source": [
        "def fetch_user(id):\n",
        "    pass\n",
        "\n",
        "def get_post(id):\n",
        "    pass\n",
        "    # Not recommended\n",
        "\n",
        "def fetch_user(id):\n",
        "    pass\n",
        "\n",
        "def fetch_post(id):\n",
        "    pass\n",
        "    # Recommended"
      ],
      "metadata": {
        "id": "yCMW9IHKUqlg"
      },
      "execution_count": null,
      "outputs": []
    },
    {
      "cell_type": "markdown",
      "source": [
        "- Do not use boolean flags"
      ],
      "metadata": {
        "id": "n3xjpK2fjSep"
      }
    },
    {
      "cell_type": "code",
      "source": [
        "def transform_text(txt, uppercase):\n",
        "    if uppercase:\n",
        "        return txt.upper()\n",
        "    else:\n",
        "        return txt.lower()\n",
        "    # Not recommended\n",
        "\n",
        "def transform_to_upper(txt):\n",
        "    return txt.upper()\n",
        "def transform_to_lower(txt):\n",
        "    return txt.lower()\n",
        "# Recommended"
      ],
      "metadata": {
        "id": "bD6-MWYcjUUj"
      },
      "execution_count": null,
      "outputs": []
    },
    {
      "cell_type": "markdown",
      "source": [
        "##### 3. Classes"
      ],
      "metadata": {
        "id": "puE5WX-ukXW1"
      }
    },
    {
      "cell_type": "markdown",
      "source": [
        "- Avoid Reduntant Context"
      ],
      "metadata": {
        "id": "sZFPS7etkaEA"
      }
    },
    {
      "cell_type": "code",
      "source": [
        "class Person:\n",
        "    def __init__(self, person_username, person_email, person_phone, person_address):\n",
        "        self.person_username = person_username\n",
        "        self.person_email = person_email\n",
        "        self.person_phone = person_phone\n",
        "        self.person_address = person_address\n",
        "        # Not recommended\n",
        "\n",
        "    def __init__(self, username, email, phone, address):\n",
        "        self.username = username\n",
        "        self.email = email\n",
        "        self.phone = phone\n",
        "        self.address = address\n",
        "        # Recommended"
      ],
      "metadata": {
        "id": "eWyyK9belUWH"
      },
      "execution_count": null,
      "outputs": []
    },
    {
      "cell_type": "markdown",
      "source": [
        "### How to have beautiful white spacing?"
      ],
      "metadata": {
        "id": "JrqlNxPYmCpW"
      }
    },
    {
      "cell_type": "markdown",
      "source": [
        "##### 1. Identation\n",
        "- must be consistent\n",
        "- 4 spaces is the standard\n",
        "-  For hanging identation:\n",
        "  - First line without identation\n",
        "- Use different levels of identations for for distinguishment"
      ],
      "metadata": {
        "id": "E63-AdHLpRDv"
      }
    },
    {
      "cell_type": "code",
      "source": [
        "# Recommended\n",
        "\n",
        "# Alingment\n",
        "juice = squeeze(orange, watermeloon,\n",
        "                banana, apple)\n",
        "\n",
        "\n",
        "# 4 spaces, hanging identation, and different levels of identation\n",
        "def squeeze(\n",
        "        juice_1, juice_2,\n",
        "        juice_3, juice_4):\n",
        "    print(juice_1+juice_2)\n",
        "    # Different levels of identation: distinguish the arguments from the rest"
      ],
      "metadata": {
        "id": "YJtGgYn_pe6v"
      },
      "execution_count": null,
      "outputs": []
    },
    {
      "cell_type": "markdown",
      "source": [
        "##### 2. Lines"
      ],
      "metadata": {
        "id": "mndTK-naUyfD"
      }
    },
    {
      "cell_type": "markdown",
      "source": [
        "PEP 8 style guides us to:\n",
        "- limit our line length to 79 characters.\n",
        "- surround top-level function and class definitions with two blank lines.\n",
        "- surround method defintion inside a class by a single blank line.\n",
        "- use blank lines to separate groups of related functions and omit blank lines between sets of related lines.\n",
        "- use blank lines inside functions to give logical sense to sections."
      ],
      "metadata": {
        "id": "HswnbDo3VJIP"
      }
    },
    {
      "cell_type": "markdown",
      "source": [
        "### Best way to comment and document"
      ],
      "metadata": {
        "id": "7QMUQdx0cKm7"
      }
    },
    {
      "cell_type": "markdown",
      "source": [
        "- Explain your code through comments.\n",
        "- Do not overuse comments."
      ],
      "metadata": {
        "id": "potNXIFwcQSm"
      }
    },
    {
      "cell_type": "markdown",
      "source": [
        "##### 1. In-line Comments"
      ],
      "metadata": {
        "id": "Obpvj2USc8sn"
      }
    },
    {
      "cell_type": "markdown",
      "source": [
        "- It is the text following the '#' symbol.\n",
        "- Used to explain complex parts of your code or to explain why certain values are selected.\n",
        "- Tips for writing comments:\n",
        "  1. Rewrite bad code instead of commenting it.\n",
        "  2. Avoid useless comments (use comments for explainations not descriptions).\n",
        "  3. Remove commented outdated code."
      ],
      "metadata": {
        "id": "JiOhYDzgdMvn"
      }
    },
    {
      "cell_type": "markdown",
      "source": [
        "##### 2. Docstrings"
      ],
      "metadata": {
        "id": "QVo9xKxOes3y"
      }
    },
    {
      "cell_type": "markdown",
      "source": [
        "- Text inside a function surronded by triple quotes.\n",
        "- It is used to explain what the function does.\n",
        "- The three optional pieces of docstring:\n",
        "  - First line of docstring: A brief description about the function.\n",
        "  - Second part is the arguments list: explain their purposes and types.\n",
        "  - Lastly, show what output should the function return."
      ],
      "metadata": {
        "id": "9VosyBzhewlA"
      }
    },
    {
      "cell_type": "code",
      "source": [
        "# Example 1: just one line docstring\n",
        "\n",
        "def rectangle_area(width, height):\n",
        "    \"\"\"Calculate the area of a rectangle.\"\"\"\n",
        "    return width * height"
      ],
      "metadata": {
        "id": "dq-bi-pMdAZ3"
      },
      "execution_count": null,
      "outputs": []
    },
    {
      "cell_type": "code",
      "source": [
        "# Example 2: multiple lines docstring\n",
        "\n",
        "def rectangle_area(width, height):\n",
        "    \"\"\"Calculate the area of a rectangle.\n",
        "\n",
        "    Args:\n",
        "        width (float): the width of the recatangle.\n",
        "        height (float): the height of the rectangle.\n",
        "\n",
        "    Return:\n",
        "        (float): the calculated area of the rectangle -> width * height.\n",
        "    \"\"\"\n",
        "\n",
        "    return width * height"
      ],
      "metadata": {
        "id": "-wpoNvRVtcMH"
      },
      "execution_count": null,
      "outputs": []
    },
    {
      "cell_type": "markdown",
      "source": [
        "##### 3. Documentation"
      ],
      "metadata": {
        "id": "f2L7CRnai83s"
      }
    },
    {
      "cell_type": "markdown",
      "source": [
        "- You should document your project to help other stakeholders or contributors understand it.\n",
        "- First step: A well designed README file\n",
        "  - Explain your idea.\n",
        "  - Explain its functionality.\n",
        "  - Explain how it works.\n",
        "  - List the dependencies.\n",
        "  - Make it simple.\n",
        "- Practice formally expressing your ideas.\n",
        "- Doing this gives you more chances to re-evaluate your design decisions and allows other to get along with you."
      ],
      "metadata": {
        "id": "3kPHpR4Ii_ep"
      }
    },
    {
      "cell_type": "markdown",
      "source": [
        "If you found any mistake, please contact me at: muhammadhelmymmo@gmail.com"
      ],
      "metadata": {
        "id": "VH16qA0phXOG"
      }
    }
  ]
}