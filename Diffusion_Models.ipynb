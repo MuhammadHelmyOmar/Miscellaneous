{
  "nbformat": 4,
  "nbformat_minor": 0,
  "metadata": {
    "colab": {
      "provenance": [],
      "authorship_tag": "ABX9TyODDIMm9RSgzVEXApSzUSRT",
      "include_colab_link": true
    },
    "kernelspec": {
      "name": "python3",
      "display_name": "Python 3"
    },
    "language_info": {
      "name": "python"
    }
  },
  "cells": [
    {
      "cell_type": "markdown",
      "metadata": {
        "id": "view-in-github",
        "colab_type": "text"
      },
      "source": [
        "<a href=\"https://colab.research.google.com/github/MuhammadHelmyOmar/Miscellaneous/blob/main/Diffusion_Models.ipynb\" target=\"_parent\"><img src=\"https://colab.research.google.com/assets/colab-badge.svg\" alt=\"Open In Colab\"/></a>"
      ]
    },
    {
      "cell_type": "markdown",
      "source": [
        "# Introduction"
      ],
      "metadata": {
        "id": "86IIT_zxZVHM"
      }
    },
    {
      "cell_type": "markdown",
      "source": [
        "- This is a comprehensive overview of HuggingFace diffusion models.\n",
        "- This notebook to help you familarize yourself with primary diffusion models and their techniques."
      ],
      "metadata": {
        "id": "_UEBz263ZYwx"
      }
    },
    {
      "cell_type": "markdown",
      "source": [
        "# Prerequisites"
      ],
      "metadata": {
        "id": "Bz4uAZYDppXK"
      }
    },
    {
      "cell_type": "markdown",
      "source": [],
      "metadata": {
        "id": "ziyWS0xAp2Dl"
      }
    },
    {
      "cell_type": "code",
      "execution_count": null,
      "metadata": {
        "id": "U2u-5tAmT5wd"
      },
      "outputs": [],
      "source": []
    }
  ]
}